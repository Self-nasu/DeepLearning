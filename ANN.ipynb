{
 "cells": [
  {
   "cell_type": "code",
   "execution_count": 24,
   "id": "1d9fb082-792e-4f9d-aabb-a1c1e7a58147",
   "metadata": {},
   "outputs": [],
   "source": [
    "import tensorflow as tf\n",
    "import pandas as pd\n",
    "from sklearn.model_selection import train_test_split\n",
    "from tensorflow.keras.models import Sequential\n",
    "from tensorflow.keras.layers import Dense, Input"
   ]
  },
  {
   "cell_type": "code",
   "execution_count": 25,
   "id": "ad1a318a-537e-4767-ba9a-b1f2c7ce45b3",
   "metadata": {},
   "outputs": [
    {
     "name": "stdout",
     "output_type": "stream",
     "text": [
      "your dataset generated.\n"
     ]
    }
   ],
   "source": [
    "import numpy as np\n",
    "\n",
    "np.random.seed(0)\n",
    "\n",
    "data = {\n",
    "    'Age': np.random.randint(18,55,size=(500,)),\n",
    "    'Income': np.random.randint(10000,50000,size=(500,)),\n",
    "    'Policy': np.random.randint(0,2,size=(500,))\n",
    "}\n",
    "\n",
    "data = pd.DataFrame(data)\n",
    "data.to_csv('policy.csv',index=False)\n",
    "print('your dataset generated.')"
   ]
  },
  {
   "cell_type": "code",
   "execution_count": 26,
   "id": "241c0e6b-4246-4302-a2e4-216ec094d435",
   "metadata": {},
   "outputs": [
    {
     "name": "stdout",
     "output_type": "stream",
     "text": [
      "   Age  Income  Policy\n",
      "0   18   16037       0\n",
      "1   21   35247       0\n",
      "2   21   34813       1\n",
      "3   27   41112       0\n",
      "4   37   26405       1\n"
     ]
    }
   ],
   "source": [
    "# data = pd.read_csv('policy.csv')\n",
    "print(data.head())"
   ]
  },
  {
   "cell_type": "code",
   "execution_count": 27,
   "id": "bcefbd5e-0044-45d0-bbb4-3bca7e3bb556",
   "metadata": {},
   "outputs": [],
   "source": [
    "x = data.drop('Policy',axis=1)\n",
    "y = data['Policy']"
   ]
  },
  {
   "cell_type": "code",
   "execution_count": 28,
   "id": "aff1d1a5-fc80-4807-952b-33c12b851cf0",
   "metadata": {},
   "outputs": [],
   "source": [
    "x_train, x_test, y_train, y_test = train_test_split(x,y,test_size=0.30,random_state=32)"
   ]
  },
  {
   "cell_type": "code",
   "execution_count": 39,
   "id": "a742ebcb-c3dc-4294-beb1-82a84a5184d2",
   "metadata": {
    "scrolled": true
   },
   "outputs": [],
   "source": [
    "ANN_model = Sequential([\n",
    "    Input(shape=(2,)),\n",
    "    Dense(64, activation='relu'),\n",
    "    Dense(64, activation='relu'),\n",
    "    Dense(64, activation='relu'),\n",
    "    Dense(32, activation='relu'),\n",
    "    Dense(1,activation='sigmoid')\n",
    "])"
   ]
  },
  {
   "cell_type": "code",
   "execution_count": 40,
   "id": "89bc95ef-cea8-4d32-b80e-682862936399",
   "metadata": {},
   "outputs": [],
   "source": [
    "ANN_model.compile(optimizer='adam', # 'sgd', 'rmsprop' , 'adagrade'\n",
    "              loss='binary_crossentropy', # 'categorical_crossentropy' , 'mean_squared_error'\n",
    "              metrics=['accuracy']) # 'mean_squared_error' or 'mean_absolute_error'"
   ]
  },
  {
   "cell_type": "code",
   "execution_count": null,
   "id": "8ff64e08-336b-42fd-a934-09f82cd8fbbc",
   "metadata": {},
   "outputs": [
    {
     "name": "stdout",
     "output_type": "stream",
     "text": [
      "Epoch 1/15\n"
     ]
    }
   ],
   "source": [
    "ANN_model.fit(x_train,y_train,epochs=15,batch_size=1,validation_data=(x_test,y_test))"
   ]
  },
  {
   "cell_type": "code",
   "execution_count": 38,
   "id": "14f81e2e-f2b2-4102-9be5-9a28120a17c8",
   "metadata": {},
   "outputs": [
    {
     "name": "stdout",
     "output_type": "stream",
     "text": [
      "\u001b[1m5/5\u001b[0m \u001b[32m━━━━━━━━━━━━━━━━━━━━\u001b[0m\u001b[37m\u001b[0m \u001b[1m0s\u001b[0m 3ms/step - accuracy: 0.4506 - loss: 30.2000 \n",
      "loss:  29.665390014648438\n",
      "Accuracy:  45.33333480358124\n"
     ]
    }
   ],
   "source": [
    "loss, accuracy = ANN_model.evaluate(x_test,y_test)\n",
    "print(\"loss: \",loss)\n",
    "print(\"Accuracy: \",accuracy*100)"
   ]
  },
  {
   "cell_type": "code",
   "execution_count": null,
   "id": "9a961271-c92f-4ab3-a207-e090f1a515ce",
   "metadata": {},
   "outputs": [],
   "source": []
  }
 ],
 "metadata": {
  "kernelspec": {
   "display_name": "Python 3 (ipykernel)",
   "language": "python",
   "name": "python3"
  },
  "language_info": {
   "codemirror_mode": {
    "name": "ipython",
    "version": 3
   },
   "file_extension": ".py",
   "mimetype": "text/x-python",
   "name": "python",
   "nbconvert_exporter": "python",
   "pygments_lexer": "ipython3",
   "version": "3.12.2"
  }
 },
 "nbformat": 4,
 "nbformat_minor": 5
}
