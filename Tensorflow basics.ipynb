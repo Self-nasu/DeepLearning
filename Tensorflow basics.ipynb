{
 "cells": [
  {
   "cell_type": "markdown",
   "id": "c6c640b3-0473-4a00-9b8f-6ec2eed77222",
   "metadata": {},
   "source": [
    "# TensorFlow Basics"
   ]
  },
  {
   "cell_type": "code",
   "execution_count": 1,
   "id": "26fc2a63-332a-4a74-abc6-7e7fa0e97fdf",
   "metadata": {},
   "outputs": [],
   "source": [
    "import tensorflow as tf"
   ]
  },
  {
   "cell_type": "markdown",
   "id": "d77cd995-18b4-43cf-8621-a4a1367bceb9",
   "metadata": {},
   "source": [
    "## Arithmetic Operations"
   ]
  },
  {
   "cell_type": "code",
   "execution_count": 2,
   "id": "ce399347-2a47-4c6f-af2e-ebe00a2187f8",
   "metadata": {},
   "outputs": [
    {
     "name": "stdout",
     "output_type": "stream",
     "text": [
      "sum of node a and b is  tf.Tensor(7, shape=(), dtype=int32)\n"
     ]
    }
   ],
   "source": [
    "a = tf.constant(3)\n",
    "b = tf.constant(4)\n",
    "\n",
    "c = tf.add(a,b)\n",
    "print(\"sum of node a and b is \", c)"
   ]
  },
  {
   "cell_type": "code",
   "execution_count": 3,
   "id": "fbec3bbc-451c-458f-b461-f54849331beb",
   "metadata": {},
   "outputs": [
    {
     "name": "stdout",
     "output_type": "stream",
     "text": [
      "Addition result: 7\n"
     ]
    }
   ],
   "source": [
    "import tensorflow as tf\n",
    "\n",
    "# Define two tensors\n",
    "a = tf.constant(3)\n",
    "b = tf.constant(4)\n",
    "\n",
    "# Addition\n",
    "c = tf.add(a, b)\n",
    "print(\"Addition result:\", c.numpy())  # .numpy() converts the tensor to a NumPy array\n"
   ]
  },
  {
   "cell_type": "markdown",
   "id": "04beb82f-9318-42e3-951d-d470ed20d501",
   "metadata": {},
   "source": [
    "## Matrix Operations"
   ]
  },
  {
   "cell_type": "code",
   "execution_count": 4,
   "id": "03c8f718-5656-4671-8777-5af4d7cd288a",
   "metadata": {},
   "outputs": [
    {
     "name": "stdout",
     "output_type": "stream",
     "text": [
      "Matrix multiplication result:\n",
      "[[19 22]\n",
      " [43 50]]\n"
     ]
    }
   ],
   "source": [
    "import tensorflow as tf\n",
    "\n",
    "# Define two matrices\n",
    "matrix_a = tf.constant([[1, 2], [3, 4]])\n",
    "matrix_b = tf.constant([[5, 6], [7, 8]])\n",
    "\n",
    "# Matrix multiplication\n",
    "result = tf.matmul(matrix_a, matrix_b)\n",
    "print(\"Matrix multiplication result:\")\n",
    "print(result.numpy())\n"
   ]
  },
  {
   "cell_type": "markdown",
   "id": "e2bf5bd7-a5e5-4376-ac4c-6b719637fc5e",
   "metadata": {},
   "source": [
    "## Mathematical Functions"
   ]
  },
  {
   "cell_type": "code",
   "execution_count": 5,
   "id": "21b09408-4d16-4362-81e9-104d00953946",
   "metadata": {},
   "outputs": [
    {
     "name": "stdout",
     "output_type": "stream",
     "text": [
      "Square root:\n",
      "[1.        1.4142135 1.7320508]\n"
     ]
    }
   ],
   "source": [
    "import tensorflow as tf\n",
    "\n",
    "# Define a tensor\n",
    "tensor = tf.constant([1.0, 2.0, 3.0])\n",
    "\n",
    "# Square root\n",
    "sqrt_tensor = tf.sqrt(tensor)\n",
    "print(\"Square root:\")\n",
    "print(sqrt_tensor.numpy())\n"
   ]
  },
  {
   "cell_type": "markdown",
   "id": "e7b31ab8-b521-4af0-8e33-2c71f7a3f3b2",
   "metadata": {},
   "source": [
    "## Reduction Operations"
   ]
  },
  {
   "cell_type": "code",
   "execution_count": 6,
   "id": "239caba7-b55f-4949-902b-7c3e7960ec8e",
   "metadata": {},
   "outputs": [
    {
     "name": "stdout",
     "output_type": "stream",
     "text": [
      "Summation result: 10\n"
     ]
    }
   ],
   "source": [
    "import tensorflow as tf\n",
    "\n",
    "# Define a tensor\n",
    "tensor = tf.constant([[1, 2], [3, 4]])\n",
    "\n",
    "# Summation\n",
    "sum_tensor = tf.reduce_sum(tensor)\n",
    "print(\"Summation result:\", sum_tensor.numpy())\n"
   ]
  },
  {
   "cell_type": "markdown",
   "id": "70f445dd-3236-4da0-9e60-69ca5d9cafb9",
   "metadata": {},
   "source": [
    "## Comparisons and Logical Operations"
   ]
  },
  {
   "cell_type": "code",
   "execution_count": 7,
   "id": "056cdd93-0d81-427b-9eed-8d1b52f8180b",
   "metadata": {},
   "outputs": [
    {
     "name": "stdout",
     "output_type": "stream",
     "text": [
      "Greater than comparison result:\n",
      "[False False  True]\n"
     ]
    }
   ],
   "source": [
    "import tensorflow as tf\n",
    "\n",
    "# Define two tensors\n",
    "a = tf.constant([1, 2, 3])\n",
    "b = tf.constant([2, 2, 2])\n",
    "\n",
    "# Greater than comparison\n",
    "greater_than = tf.greater(a, b)\n",
    "print(\"Greater than comparison result:\")\n",
    "print(greater_than.numpy())\n"
   ]
  },
  {
   "cell_type": "markdown",
   "id": "7a4ae679-5d2d-43fa-b472-86c99bce1837",
   "metadata": {},
   "source": [
    "## other Usefull Stuf"
   ]
  },
  {
   "cell_type": "code",
   "execution_count": 9,
   "id": "752198c4-0bac-4b2e-a0e3-78ac591f7327",
   "metadata": {},
   "outputs": [
    {
     "name": "stdout",
     "output_type": "stream",
     "text": [
      "Normal tensor:\n",
      "[[1 2]\n",
      " [3 4]\n",
      " [5 6]]\n",
      "Reshaped tensor:\n",
      "[[1 2 3]\n",
      " [4 5 6]]\n"
     ]
    }
   ],
   "source": [
    "import tensorflow as tf\n",
    "\n",
    "# Reshaping\n",
    "tensor = tf.constant([[1, 2], [3, 4], [5, 6]])\n",
    "reshaped_tensor = tf.reshape(tensor, [2, 3])\n",
    "print(\"Normal tensor:\")\n",
    "print(tensor.numpy())\n",
    "\n",
    "print(\"Reshaped tensor:\")\n",
    "print(reshaped_tensor.numpy())\n"
   ]
  },
  {
   "cell_type": "code",
   "execution_count": 12,
   "id": "0ba89ecc-5105-402d-87d3-51a4c0f626aa",
   "metadata": {},
   "outputs": [
    {
     "name": "stdout",
     "output_type": "stream",
     "text": [
      "[[1 0]\n",
      " [0 1]]\n"
     ]
    }
   ],
   "source": [
    "# for defining variables is node\n",
    "variable = tf.Variable([[1,0],[0,1]])\n",
    "print(variable.numpy())"
   ]
  }
 ],
 "metadata": {
  "kernelspec": {
   "display_name": "Python 3 (ipykernel)",
   "language": "python",
   "name": "python3"
  },
  "language_info": {
   "codemirror_mode": {
    "name": "ipython",
    "version": 3
   },
   "file_extension": ".py",
   "mimetype": "text/x-python",
   "name": "python",
   "nbconvert_exporter": "python",
   "pygments_lexer": "ipython3",
   "version": "3.12.2"
  }
 },
 "nbformat": 4,
 "nbformat_minor": 5
}
