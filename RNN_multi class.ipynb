{
 "cells": [
  {
   "cell_type": "code",
   "execution_count": 170,
   "id": "fdce0c7e-e606-47ce-8387-6ff4572499fb",
   "metadata": {},
   "outputs": [],
   "source": [
    "# data Set making for RNN \n",
    "\n",
    "#movie review sentiment analysis\n",
    "import pandas as pd\n",
    "import numpy as np\n",
    "\n",
    "np.random.seed(0)\n",
    "\n",
    "review_text = ['bhaut achi he movie','thik he','bekar the movie']\n",
    "\n",
    "review = np.random.choice(review_text,size=(50,))"
   ]
  },
  {
   "cell_type": "code",
   "execution_count": 171,
   "id": "799c0fa8-f7cb-41b1-b771-e9fe04e17ac7",
   "metadata": {},
   "outputs": [],
   "source": [
    "data = {\n",
    "    'review_text': review,\n",
    "    'sentiment': ['positive' if s == 'bhaut achi he movie' else\n",
    "                  'neutral' if s == 'thik he' else\n",
    "                  'negative' for s in review]\n",
    "}\n",
    "\n",
    "data = pd.DataFrame(data)\n",
    "data.to_csv('movie_review_sen.csv',index=False)"
   ]
  },
  {
   "cell_type": "code",
   "execution_count": 172,
   "id": "374ba3b2-9c79-4a00-bb0e-37f1901cc1e1",
   "metadata": {},
   "outputs": [],
   "source": [
    "import tensorflow as tf\n",
    "from sklearn.model_selection import train_test_split\n",
    "from tensorflow.keras.models import Sequential\n",
    "from tensorflow.keras.layers import Dense\n",
    "# for sentence encoding\n",
    "from tensorflow.keras.preprocessing.text import Tokenizer\n",
    "from keras.preprocessing.sequence import pad_sequences\n",
    "# for lables encoding\n",
    "from sklearn.preprocessing import LabelEncoder"
   ]
  },
  {
   "cell_type": "code",
   "execution_count": 173,
   "id": "58cbf265-3a96-4bc6-8322-860a41cb79f0",
   "metadata": {},
   "outputs": [
    {
     "data": {
      "text/html": [
       "<div>\n",
       "<style scoped>\n",
       "    .dataframe tbody tr th:only-of-type {\n",
       "        vertical-align: middle;\n",
       "    }\n",
       "\n",
       "    .dataframe tbody tr th {\n",
       "        vertical-align: top;\n",
       "    }\n",
       "\n",
       "    .dataframe thead th {\n",
       "        text-align: right;\n",
       "    }\n",
       "</style>\n",
       "<table border=\"1\" class=\"dataframe\">\n",
       "  <thead>\n",
       "    <tr style=\"text-align: right;\">\n",
       "      <th></th>\n",
       "      <th>review_text</th>\n",
       "      <th>sentiment</th>\n",
       "    </tr>\n",
       "  </thead>\n",
       "  <tbody>\n",
       "    <tr>\n",
       "      <th>0</th>\n",
       "      <td>bhaut achi he movie</td>\n",
       "      <td>positive</td>\n",
       "    </tr>\n",
       "    <tr>\n",
       "      <th>1</th>\n",
       "      <td>thik he</td>\n",
       "      <td>neutral</td>\n",
       "    </tr>\n",
       "    <tr>\n",
       "      <th>2</th>\n",
       "      <td>bhaut achi he movie</td>\n",
       "      <td>positive</td>\n",
       "    </tr>\n",
       "    <tr>\n",
       "      <th>3</th>\n",
       "      <td>thik he</td>\n",
       "      <td>neutral</td>\n",
       "    </tr>\n",
       "    <tr>\n",
       "      <th>4</th>\n",
       "      <td>thik he</td>\n",
       "      <td>neutral</td>\n",
       "    </tr>\n",
       "  </tbody>\n",
       "</table>\n",
       "</div>"
      ],
      "text/plain": [
       "           review_text sentiment\n",
       "0  bhaut achi he movie  positive\n",
       "1              thik he   neutral\n",
       "2  bhaut achi he movie  positive\n",
       "3              thik he   neutral\n",
       "4              thik he   neutral"
      ]
     },
     "execution_count": 173,
     "metadata": {},
     "output_type": "execute_result"
    }
   ],
   "source": [
    "data.head()"
   ]
  },
  {
   "cell_type": "code",
   "execution_count": 174,
   "id": "0b4f6d40-85ec-4341-b774-0b8d6292ba04",
   "metadata": {},
   "outputs": [
    {
     "name": "stdout",
     "output_type": "stream",
     "text": [
      "0    bhaut achi he movie\n",
      "1                thik he\n",
      "2    bhaut achi he movie\n",
      "3                thik he\n",
      "4                thik he\n",
      "Name: review_text, dtype: object\n",
      "0    positive\n",
      "1     neutral\n",
      "2    positive\n",
      "3     neutral\n",
      "4     neutral\n",
      "Name: sentiment, dtype: object\n"
     ]
    }
   ],
   "source": [
    "x = data['review_text']\n",
    "y = data['sentiment']\n",
    "print(x.head())\n",
    "print(y.head())"
   ]
  },
  {
   "cell_type": "code",
   "execution_count": 175,
   "id": "ad44c0ae-28ca-4d56-ad37-142042d97695",
   "metadata": {},
   "outputs": [
    {
     "name": "stdout",
     "output_type": "stream",
     "text": [
      "[[3, 4, 1, 2], [5, 1], [3, 4, 1, 2], [5, 1], [5, 1], [6, 7, 2], [3, 4, 1, 2], [6, 7, 2], [3, 4, 1, 2], [3, 4, 1, 2], [3, 4, 1, 2], [6, 7, 2], [5, 1], [6, 7, 2], [6, 7, 2], [3, 4, 1, 2], [5, 1], [5, 1], [5, 1], [5, 1], [3, 4, 1, 2], [5, 1], [3, 4, 1, 2], [3, 4, 1, 2], [5, 1], [6, 7, 2], [3, 4, 1, 2], [6, 7, 2], [3, 4, 1, 2], [5, 1], [5, 1], [6, 7, 2], [3, 4, 1, 2], [5, 1], [5, 1], [5, 1], [3, 4, 1, 2], [6, 7, 2], [3, 4, 1, 2], [6, 7, 2], [6, 7, 2], [3, 4, 1, 2], [6, 7, 2], [3, 4, 1, 2], [3, 4, 1, 2], [3, 4, 1, 2], [5, 1], [5, 1], [6, 7, 2], [3, 4, 1, 2]]\n"
     ]
    }
   ],
   "source": [
    "# x transofrmation text to encoding using tokenizer\n",
    "tokenizer = Tokenizer()\n",
    "tokenizer.fit_on_texts(x)\n",
    "x_tran = tokenizer.texts_to_sequences(x)\n",
    "print(x_tran)"
   ]
  },
  {
   "cell_type": "code",
   "execution_count": 176,
   "id": "9ceebae6-4a5c-446c-9e81-cadf160ada81",
   "metadata": {},
   "outputs": [],
   "source": [
    "x_padded = pad_sequences(x_tran, maxlen=5)"
   ]
  },
  {
   "cell_type": "code",
   "execution_count": 177,
   "id": "238ca056-42a8-4fa0-b8c7-36b6c510e89d",
   "metadata": {},
   "outputs": [
    {
     "name": "stdout",
     "output_type": "stream",
     "text": [
      "[[0 3 4 1 2]\n",
      " [0 0 0 5 1]\n",
      " [0 3 4 1 2]\n",
      " [0 0 0 5 1]\n",
      " [0 0 0 5 1]\n",
      " [0 0 6 7 2]\n",
      " [0 3 4 1 2]\n",
      " [0 0 6 7 2]\n",
      " [0 3 4 1 2]\n",
      " [0 3 4 1 2]\n",
      " [0 3 4 1 2]\n",
      " [0 0 6 7 2]\n",
      " [0 0 0 5 1]\n",
      " [0 0 6 7 2]\n",
      " [0 0 6 7 2]\n",
      " [0 3 4 1 2]\n",
      " [0 0 0 5 1]\n",
      " [0 0 0 5 1]\n",
      " [0 0 0 5 1]\n",
      " [0 0 0 5 1]\n",
      " [0 3 4 1 2]\n",
      " [0 0 0 5 1]\n",
      " [0 3 4 1 2]\n",
      " [0 3 4 1 2]\n",
      " [0 0 0 5 1]\n",
      " [0 0 6 7 2]\n",
      " [0 3 4 1 2]\n",
      " [0 0 6 7 2]\n",
      " [0 3 4 1 2]\n",
      " [0 0 0 5 1]\n",
      " [0 0 0 5 1]\n",
      " [0 0 6 7 2]\n",
      " [0 3 4 1 2]\n",
      " [0 0 0 5 1]\n",
      " [0 0 0 5 1]\n",
      " [0 0 0 5 1]\n",
      " [0 3 4 1 2]\n",
      " [0 0 6 7 2]\n",
      " [0 3 4 1 2]\n",
      " [0 0 6 7 2]\n",
      " [0 0 6 7 2]\n",
      " [0 3 4 1 2]\n",
      " [0 0 6 7 2]\n",
      " [0 3 4 1 2]\n",
      " [0 3 4 1 2]\n",
      " [0 3 4 1 2]\n",
      " [0 0 0 5 1]\n",
      " [0 0 0 5 1]\n",
      " [0 0 6 7 2]\n",
      " [0 3 4 1 2]]\n"
     ]
    }
   ],
   "source": [
    "print(x_padded)"
   ]
  },
  {
   "cell_type": "code",
   "execution_count": 178,
   "id": "751c04c8-8415-44a4-a4ec-d65b92d2f639",
   "metadata": {},
   "outputs": [
    {
     "name": "stdout",
     "output_type": "stream",
     "text": [
      "[2 1 2 1 1 0 2 0 2 2 2 0 1 0 0 2 1 1 1 1 2 1 2 2 1 0 2 0 2 1 1 0 2 1 1 1 2\n",
      " 0 2 0 0 2 0 2 2 2 1 1 0 2]\n",
      "[[0. 0. 1.]\n",
      " [0. 1. 0.]\n",
      " [0. 0. 1.]\n",
      " [0. 1. 0.]\n",
      " [0. 1. 0.]\n",
      " [1. 0. 0.]\n",
      " [0. 0. 1.]\n",
      " [1. 0. 0.]\n",
      " [0. 0. 1.]\n",
      " [0. 0. 1.]\n",
      " [0. 0. 1.]\n",
      " [1. 0. 0.]\n",
      " [0. 1. 0.]\n",
      " [1. 0. 0.]\n",
      " [1. 0. 0.]\n",
      " [0. 0. 1.]\n",
      " [0. 1. 0.]\n",
      " [0. 1. 0.]\n",
      " [0. 1. 0.]\n",
      " [0. 1. 0.]\n",
      " [0. 0. 1.]\n",
      " [0. 1. 0.]\n",
      " [0. 0. 1.]\n",
      " [0. 0. 1.]\n",
      " [0. 1. 0.]\n",
      " [1. 0. 0.]\n",
      " [0. 0. 1.]\n",
      " [1. 0. 0.]\n",
      " [0. 0. 1.]\n",
      " [0. 1. 0.]\n",
      " [0. 1. 0.]\n",
      " [1. 0. 0.]\n",
      " [0. 0. 1.]\n",
      " [0. 1. 0.]\n",
      " [0. 1. 0.]\n",
      " [0. 1. 0.]\n",
      " [0. 0. 1.]\n",
      " [1. 0. 0.]\n",
      " [0. 0. 1.]\n",
      " [1. 0. 0.]\n",
      " [1. 0. 0.]\n",
      " [0. 0. 1.]\n",
      " [1. 0. 0.]\n",
      " [0. 0. 1.]\n",
      " [0. 0. 1.]\n",
      " [0. 0. 1.]\n",
      " [0. 1. 0.]\n",
      " [0. 1. 0.]\n",
      " [1. 0. 0.]\n",
      " [0. 0. 1.]]\n"
     ]
    }
   ],
   "source": [
    "labelenco = LabelEncoder()\n",
    "y_tran = labelenco.fit_transform(y)\n",
    "print(y_tran)\n",
    "\n",
    "from keras.utils import to_categorical\n",
    "\n",
    "num_classes = 3  # Assuming you have 3 classes (positive, neutral, negative)\n",
    "\n",
    "# Convert target labels to one-hot encoded format\n",
    "y_one_hot = to_categorical(y_tran, num_classes=num_classes)\n",
    "print(y_one_hot)"
   ]
  },
  {
   "cell_type": "code",
   "execution_count": 179,
   "id": "b74bd8e2-b5ed-41be-bb89-974323133632",
   "metadata": {},
   "outputs": [],
   "source": [
    "x_train,x_test,y_train,y_test = train_test_split(x_padded,y_one_hot,test_size=0.30,random_state=35)"
   ]
  },
  {
   "cell_type": "code",
   "execution_count": 180,
   "id": "e509a8cc-7eb9-4e82-83db-ed443d7c8908",
   "metadata": {},
   "outputs": [
    {
     "name": "stdout",
     "output_type": "stream",
     "text": [
      "x_trainshape: (35, 5)\n",
      "x_testshape: (15, 5)\n",
      "y_trainshape: (35, 3)\n",
      "y_testshape: (15, 3)\n"
     ]
    }
   ],
   "source": [
    "print(\"x_trainshape:\",x_train.shape)\n",
    "print(\"x_testshape:\",x_test.shape)\n",
    "print(\"y_trainshape:\",y_train.shape)\n",
    "print(\"y_testshape:\",y_test.shape)"
   ]
  },
  {
   "cell_type": "code",
   "execution_count": 181,
   "id": "64cac7ee-d698-4386-a6ff-493c5f89f52f",
   "metadata": {},
   "outputs": [
    {
     "name": "stderr",
     "output_type": "stream",
     "text": [
      "C:\\Users\\naman\\AppData\\Local\\Programs\\Python\\Python312\\Lib\\site-packages\\keras\\src\\layers\\rnn\\rnn.py:204: UserWarning: Do not pass an `input_shape`/`input_dim` argument to a layer. When using Sequential models, prefer using an `Input(shape)` object as the first layer in the model instead.\n",
      "  super().__init__(**kwargs)\n"
     ]
    }
   ],
   "source": [
    "from tensorflow.keras.layers import SimpleRNN\n",
    "RNN_model = Sequential([\n",
    "    SimpleRNN(units=64,activation='relu',input_shape=(5,1)),\n",
    "    Dense(3,activation='softmax')\n",
    "])"
   ]
  },
  {
   "cell_type": "code",
   "execution_count": 182,
   "id": "a3fff00e-f18f-412d-8150-6978c19c8e97",
   "metadata": {},
   "outputs": [],
   "source": [
    "RNN_model.compile(\n",
    "    optimizer='adam',\n",
    "    loss='categorical_crossentropy',\n",
    "    metrics=['accuracy']\n",
    ")"
   ]
  },
  {
   "cell_type": "code",
   "execution_count": 183,
   "id": "21e309ef-b9cd-43bf-a2bd-fe32799b6e1c",
   "metadata": {},
   "outputs": [
    {
     "name": "stdout",
     "output_type": "stream",
     "text": [
      "Epoch 1/10\n",
      "\u001b[1m2/2\u001b[0m \u001b[32m━━━━━━━━━━━━━━━━━━━━\u001b[0m\u001b[37m\u001b[0m \u001b[1m2s\u001b[0m 230ms/step - accuracy: 0.3536 - loss: 1.0502 - val_accuracy: 0.3333 - val_loss: 0.9981\n",
      "Epoch 2/10\n",
      "\u001b[1m2/2\u001b[0m \u001b[32m━━━━━━━━━━━━━━━━━━━━\u001b[0m\u001b[37m\u001b[0m \u001b[1m0s\u001b[0m 35ms/step - accuracy: 0.3432 - loss: 0.9923 - val_accuracy: 0.6000 - val_loss: 0.9440\n",
      "Epoch 3/10\n",
      "\u001b[1m2/2\u001b[0m \u001b[32m━━━━━━━━━━━━━━━━━━━━\u001b[0m\u001b[37m\u001b[0m \u001b[1m0s\u001b[0m 34ms/step - accuracy: 0.5875 - loss: 0.9376 - val_accuracy: 0.6000 - val_loss: 0.9004\n",
      "Epoch 4/10\n",
      "\u001b[1m2/2\u001b[0m \u001b[32m━━━━━━━━━━━━━━━━━━━━\u001b[0m\u001b[37m\u001b[0m \u001b[1m0s\u001b[0m 34ms/step - accuracy: 0.5875 - loss: 0.9006 - val_accuracy: 0.6000 - val_loss: 0.8633\n",
      "Epoch 5/10\n",
      "\u001b[1m2/2\u001b[0m \u001b[32m━━━━━━━━━━━━━━━━━━━━\u001b[0m\u001b[37m\u001b[0m \u001b[1m0s\u001b[0m 35ms/step - accuracy: 0.5979 - loss: 0.8639 - val_accuracy: 0.6000 - val_loss: 0.8262\n",
      "Epoch 6/10\n",
      "\u001b[1m2/2\u001b[0m \u001b[32m━━━━━━━━━━━━━━━━━━━━\u001b[0m\u001b[37m\u001b[0m \u001b[1m0s\u001b[0m 36ms/step - accuracy: 0.5979 - loss: 0.8266 - val_accuracy: 0.6000 - val_loss: 0.7895\n",
      "Epoch 7/10\n",
      "\u001b[1m2/2\u001b[0m \u001b[32m━━━━━━━━━━━━━━━━━━━━\u001b[0m\u001b[37m\u001b[0m \u001b[1m0s\u001b[0m 34ms/step - accuracy: 0.5875 - loss: 0.7952 - val_accuracy: 0.6000 - val_loss: 0.7513\n",
      "Epoch 8/10\n",
      "\u001b[1m2/2\u001b[0m \u001b[32m━━━━━━━━━━━━━━━━━━━━\u001b[0m\u001b[37m\u001b[0m \u001b[1m0s\u001b[0m 32ms/step - accuracy: 0.5979 - loss: 0.7510 - val_accuracy: 0.6000 - val_loss: 0.7104\n",
      "Epoch 9/10\n",
      "\u001b[1m2/2\u001b[0m \u001b[32m━━━━━━━━━━━━━━━━━━━━\u001b[0m\u001b[37m\u001b[0m \u001b[1m0s\u001b[0m 36ms/step - accuracy: 0.5979 - loss: 0.7125 - val_accuracy: 0.6000 - val_loss: 0.6661\n",
      "Epoch 10/10\n",
      "\u001b[1m2/2\u001b[0m \u001b[32m━━━━━━━━━━━━━━━━━━━━\u001b[0m\u001b[37m\u001b[0m \u001b[1m0s\u001b[0m 33ms/step - accuracy: 0.5979 - loss: 0.6655 - val_accuracy: 1.0000 - val_loss: 0.6210\n"
     ]
    },
    {
     "data": {
      "text/plain": [
       "<keras.src.callbacks.history.History at 0x1ec9a07bb00>"
      ]
     },
     "execution_count": 183,
     "metadata": {},
     "output_type": "execute_result"
    }
   ],
   "source": [
    "RNN_model.fit(x_train, y_train, epochs=10, batch_size=32, validation_data=(x_test, y_test))"
   ]
  },
  {
   "cell_type": "code",
   "execution_count": 184,
   "id": "04cffdaa-79b6-4e2f-b434-5e217f68930f",
   "metadata": {},
   "outputs": [
    {
     "name": "stdout",
     "output_type": "stream",
     "text": [
      "\u001b[1m1/1\u001b[0m \u001b[32m━━━━━━━━━━━━━━━━━━━━\u001b[0m\u001b[37m\u001b[0m \u001b[1m0s\u001b[0m 25ms/step - accuracy: 1.0000 - loss: 0.6210\n",
      "0.6210209131240845\n",
      "1.0\n"
     ]
    }
   ],
   "source": [
    "loss, accuracy = RNN_model.evaluate(x_test,y_test)\n",
    "print(loss)\n",
    "print(accuracy)"
   ]
  },
  {
   "cell_type": "code",
   "execution_count": 169,
   "id": "3bbb4992-6e5d-4b2d-8da4-bf62f5b4e12d",
   "metadata": {},
   "outputs": [
    {
     "name": "stdout",
     "output_type": "stream",
     "text": [
      "\u001b[1m1/1\u001b[0m \u001b[32m━━━━━━━━━━━━━━━━━━━━\u001b[0m\u001b[37m\u001b[0m \u001b[1m0s\u001b[0m 26ms/step\n",
      "[[0.79554003 0.12018701 0.08427294]\n",
      " [0.10281778 0.10056185 0.7966204 ]\n",
      " [0.10281778 0.10056185 0.7966204 ]\n",
      " [0.79554003 0.12018701 0.08427294]\n",
      " [0.18739428 0.7157131  0.09689264]\n",
      " [0.10281778 0.10056185 0.7966204 ]\n",
      " [0.10281778 0.10056185 0.7966204 ]\n",
      " [0.18739428 0.7157131  0.09689264]\n",
      " [0.79554003 0.12018701 0.08427294]\n",
      " [0.10281778 0.10056185 0.7966204 ]\n",
      " [0.18739428 0.7157131  0.09689264]\n",
      " [0.18739428 0.7157131  0.09689264]\n",
      " [0.18739428 0.7157131  0.09689262]\n",
      " [0.10281778 0.10056185 0.7966204 ]\n",
      " [0.79554015 0.12018704 0.08427289]]\n",
      "[[1. 0. 0.]\n",
      " [0. 0. 1.]\n",
      " [0. 0. 1.]\n",
      " [1. 0. 0.]\n",
      " [0. 1. 0.]\n",
      " [0. 0. 1.]\n",
      " [0. 0. 1.]\n",
      " [0. 1. 0.]\n",
      " [1. 0. 0.]\n",
      " [0. 0. 1.]\n",
      " [0. 1. 0.]\n",
      " [0. 1. 0.]\n",
      " [0. 1. 0.]\n",
      " [0. 0. 1.]\n",
      " [1. 0. 0.]]\n"
     ]
    }
   ],
   "source": [
    "y_pred = RNN_model.predict(x_test)\n",
    "print(y_pred)\n",
    "print(y_test)"
   ]
  },
  {
   "cell_type": "code",
   "execution_count": null,
   "id": "8b52ad75-ad92-462b-8ba1-6690bbc6246c",
   "metadata": {},
   "outputs": [],
   "source": []
  }
 ],
 "metadata": {
  "kernelspec": {
   "display_name": "Python 3 (ipykernel)",
   "language": "python",
   "name": "python3"
  },
  "language_info": {
   "codemirror_mode": {
    "name": "ipython",
    "version": 3
   },
   "file_extension": ".py",
   "mimetype": "text/x-python",
   "name": "python",
   "nbconvert_exporter": "python",
   "pygments_lexer": "ipython3",
   "version": "3.12.2"
  }
 },
 "nbformat": 4,
 "nbformat_minor": 5
}
