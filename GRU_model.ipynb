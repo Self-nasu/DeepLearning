{
 "cells": [
  {
   "cell_type": "code",
   "execution_count": 19,
   "id": "d2e6359b-815f-4047-af0c-5ce748203f4e",
   "metadata": {},
   "outputs": [],
   "source": [
    "import pandas as pd\n",
    "import numpy as np\n",
    "\n",
    "np.random.seed(0)\n",
    "\n",
    "random_text = ['hi','hello','bye','bye bye']\n",
    "sentiment = np.random.choice(random_text,size=(60,))\n",
    "\n",
    "data = {\n",
    "    'sentiment': sentiment,\n",
    "    'mood': ['good' if s == 'hello' else\n",
    "             'bad' for s in sentiment]\n",
    "}\n",
    "\n",
    "data = pd.DataFrame(data)\n",
    "data.to_csv('mymood.csv',index=False)"
   ]
  },
  {
   "cell_type": "code",
   "execution_count": 25,
   "id": "38b7822e-dc95-423a-9f59-3d9a1f1173cd",
   "metadata": {},
   "outputs": [],
   "source": [
    "import tensorflow as tf\n",
    "from tensorflow.keras.models import Sequential\n",
    "from tensorflow.keras.layers import GRU, Dense\n",
    "# for text Transoformation\n",
    "from tensorflow.keras.preprocessing.text import Tokenizer\n",
    "from tensorflow.keras.preprocessing.sequence import pad_sequences\n",
    "# for lable encoding\n",
    "from sklearn.preprocessing import LabelEncoder\n",
    "from keras.utils import to_categorical\n",
    "# for train test split\n",
    "from sklearn.model_selection import train_test_split"
   ]
  },
  {
   "cell_type": "code",
   "execution_count": 26,
   "id": "a8f42515-30b4-4328-ae2c-5f5efbcba19e",
   "metadata": {},
   "outputs": [
    {
     "name": "stdout",
     "output_type": "stream",
     "text": [
      "  sentiment  mood\n",
      "0        hi   bad\n",
      "1   bye bye   bad\n",
      "2     hello  good\n",
      "3        hi   bad\n",
      "4   bye bye   bad\n"
     ]
    }
   ],
   "source": [
    "print(data.head())"
   ]
  },
  {
   "cell_type": "code",
   "execution_count": 29,
   "id": "d685083e-d539-49c0-abc1-3167da0cb745",
   "metadata": {},
   "outputs": [
    {
     "name": "stdout",
     "output_type": "stream",
     "text": [
      "0         hi\n",
      "1    bye bye\n",
      "2      hello\n",
      "3         hi\n",
      "4    bye bye\n",
      "Name: sentiment, dtype: object\n",
      "0     bad\n",
      "1     bad\n",
      "2    good\n",
      "3     bad\n",
      "4     bad\n",
      "Name: mood, dtype: object\n"
     ]
    }
   ],
   "source": [
    "x = data['sentiment']\n",
    "y = data['mood']\n",
    "print(x.head())\n",
    "print(y.head())"
   ]
  },
  {
   "cell_type": "code",
   "execution_count": 34,
   "id": "c0c47f31-b448-4ee1-8521-687d349bc958",
   "metadata": {},
   "outputs": [],
   "source": [
    "# transforming x\n",
    "tokenizer = Tokenizer()\n",
    "tokenizer.fit_on_texts(x)\n",
    "x_token = tokenizer.texts_to_sequences(x)\n",
    "\n",
    "main_x = pad_sequences(x_token,maxlen=3)\n",
    "# print(main_x)"
   ]
  },
  {
   "cell_type": "code",
   "execution_count": 36,
   "id": "555f6711-af7c-4eab-99a0-a09001ba626f",
   "metadata": {},
   "outputs": [],
   "source": [
    "# now transofrming y\n",
    "\n",
    "labelenco = LabelEncoder()\n",
    "y_tran = labelenco.fit_transform(y)\n",
    "\n",
    "main_y = to_categorical(y_tran,num_classes=2)"
   ]
  },
  {
   "cell_type": "code",
   "execution_count": 37,
   "id": "4b5caff4-e4be-4eb7-aa44-cd32315dc459",
   "metadata": {},
   "outputs": [
    {
     "name": "stdout",
     "output_type": "stream",
     "text": [
      "[[0 0 2]\n",
      " [0 1 1]\n",
      " [0 0 3]\n",
      " [0 0 2]\n",
      " [0 1 1]\n",
      " [0 1 1]\n",
      " [0 1 1]\n",
      " [0 1 1]\n",
      " [0 0 3]\n",
      " [0 1 1]\n",
      " [0 0 3]\n",
      " [0 0 1]\n",
      " [0 0 2]\n",
      " [0 1 1]\n",
      " [0 0 1]\n",
      " [0 0 2]\n",
      " [0 0 2]\n",
      " [0 0 2]\n",
      " [0 0 1]\n",
      " [0 0 3]\n",
      " [0 0 1]\n",
      " [0 1 1]\n",
      " [0 1 1]\n",
      " [0 0 1]\n",
      " [0 0 2]\n",
      " [0 0 3]\n",
      " [0 0 3]\n",
      " [0 0 3]\n",
      " [0 0 3]\n",
      " [0 0 2]\n",
      " [0 0 3]\n",
      " [0 0 2]\n",
      " [0 1 1]\n",
      " [0 0 2]\n",
      " [0 1 1]\n",
      " [0 0 3]\n",
      " [0 0 1]\n",
      " [0 1 1]\n",
      " [0 1 1]\n",
      " [0 0 2]\n",
      " [0 0 1]\n",
      " [0 1 1]\n",
      " [0 0 2]\n",
      " [0 0 3]\n",
      " [0 1 1]\n",
      " [0 0 3]\n",
      " [0 1 1]\n",
      " [0 1 1]\n",
      " [0 0 1]\n",
      " [0 1 1]\n",
      " [0 0 2]\n",
      " [0 0 3]\n",
      " [0 0 3]\n",
      " [0 0 3]\n",
      " [0 1 1]\n",
      " [0 0 2]\n",
      " [0 1 1]\n",
      " [0 0 1]\n",
      " [0 0 2]\n",
      " [0 1 1]]\n",
      "[[1. 0.]\n",
      " [1. 0.]\n",
      " [0. 1.]\n",
      " [1. 0.]\n",
      " [1. 0.]\n",
      " [1. 0.]\n",
      " [1. 0.]\n",
      " [1. 0.]\n",
      " [0. 1.]\n",
      " [1. 0.]\n",
      " [0. 1.]\n",
      " [1. 0.]\n",
      " [1. 0.]\n",
      " [1. 0.]\n",
      " [1. 0.]\n",
      " [1. 0.]\n",
      " [1. 0.]\n",
      " [1. 0.]\n",
      " [1. 0.]\n",
      " [0. 1.]\n",
      " [1. 0.]\n",
      " [1. 0.]\n",
      " [1. 0.]\n",
      " [1. 0.]\n",
      " [1. 0.]\n",
      " [0. 1.]\n",
      " [0. 1.]\n",
      " [0. 1.]\n",
      " [0. 1.]\n",
      " [1. 0.]\n",
      " [0. 1.]\n",
      " [1. 0.]\n",
      " [1. 0.]\n",
      " [1. 0.]\n",
      " [1. 0.]\n",
      " [0. 1.]\n",
      " [1. 0.]\n",
      " [1. 0.]\n",
      " [1. 0.]\n",
      " [1. 0.]\n",
      " [1. 0.]\n",
      " [1. 0.]\n",
      " [1. 0.]\n",
      " [0. 1.]\n",
      " [1. 0.]\n",
      " [0. 1.]\n",
      " [1. 0.]\n",
      " [1. 0.]\n",
      " [1. 0.]\n",
      " [1. 0.]\n",
      " [1. 0.]\n",
      " [0. 1.]\n",
      " [0. 1.]\n",
      " [0. 1.]\n",
      " [1. 0.]\n",
      " [1. 0.]\n",
      " [1. 0.]\n",
      " [1. 0.]\n",
      " [1. 0.]\n",
      " [1. 0.]]\n"
     ]
    }
   ],
   "source": [
    "print(main_x)\n",
    "print(main_y)"
   ]
  },
  {
   "cell_type": "code",
   "execution_count": 39,
   "id": "8b901a62-412f-4136-85a6-bc4544eb9257",
   "metadata": {},
   "outputs": [],
   "source": [
    "x_train, x_test, y_train, y_test = train_test_split(main_x,main_y,test_size=0.3,random_state=30)"
   ]
  },
  {
   "cell_type": "code",
   "execution_count": 40,
   "id": "d1188318-144a-4970-8454-91e6304b9d49",
   "metadata": {},
   "outputs": [
    {
     "name": "stdout",
     "output_type": "stream",
     "text": [
      "x_trainshape:  (42, 3)\n",
      "x_testshape:  (18, 3)\n",
      "y_trainshape:  (42, 2)\n",
      "y_testshape:  (18, 2)\n"
     ]
    }
   ],
   "source": [
    "print('x_trainshape: ',x_train.shape)\n",
    "print('x_testshape: ',x_test.shape)\n",
    "print('y_trainshape: ',y_train.shape)\n",
    "print('y_testshape: ',y_test.shape)"
   ]
  },
  {
   "cell_type": "code",
   "execution_count": 42,
   "id": "93919687-1133-4509-8295-462c70aee186",
   "metadata": {},
   "outputs": [
    {
     "name": "stderr",
     "output_type": "stream",
     "text": [
      "C:\\Users\\naman\\AppData\\Local\\Programs\\Python\\Python312\\Lib\\site-packages\\keras\\src\\layers\\rnn\\rnn.py:204: UserWarning: Do not pass an `input_shape`/`input_dim` argument to a layer. When using Sequential models, prefer using an `Input(shape)` object as the first layer in the model instead.\n",
      "  super().__init__(**kwargs)\n"
     ]
    }
   ],
   "source": [
    "GRU_model = Sequential ([\n",
    "    GRU(units=64,activation='relu',input_shape=(3,1)),\n",
    "    Dense(2,activation=\"softmax\")\n",
    "])"
   ]
  },
  {
   "cell_type": "code",
   "execution_count": 43,
   "id": "53940bd0-50d3-4964-9ca0-8fbe71cabfda",
   "metadata": {},
   "outputs": [],
   "source": [
    "GRU_model.compile(\n",
    "    optimizer='sgd',\n",
    "    loss='binary_crossentropy',\n",
    "    metrics=['accuracy']\n",
    ")"
   ]
  },
  {
   "cell_type": "code",
   "execution_count": 44,
   "id": "2d1b3f53-5c95-4cf0-a4be-9f243add7e88",
   "metadata": {},
   "outputs": [
    {
     "name": "stdout",
     "output_type": "stream",
     "text": [
      "Epoch 1/10\n",
      "\u001b[1m2/2\u001b[0m \u001b[32m━━━━━━━━━━━━━━━━━━━━\u001b[0m\u001b[37m\u001b[0m \u001b[1m2s\u001b[0m 411ms/step - accuracy: 0.2788 - loss: 0.6938 - val_accuracy: 0.2222 - val_loss: 0.6947\n",
      "Epoch 2/10\n",
      "\u001b[1m2/2\u001b[0m \u001b[32m━━━━━━━━━━━━━━━━━━━━\u001b[0m\u001b[37m\u001b[0m \u001b[1m0s\u001b[0m 49ms/step - accuracy: 0.2579 - loss: 0.6933 - val_accuracy: 0.2222 - val_loss: 0.6936\n",
      "Epoch 3/10\n",
      "\u001b[1m2/2\u001b[0m \u001b[32m━━━━━━━━━━━━━━━━━━━━\u001b[0m\u001b[37m\u001b[0m \u001b[1m0s\u001b[0m 46ms/step - accuracy: 0.2684 - loss: 0.6921 - val_accuracy: 0.2222 - val_loss: 0.6923\n",
      "Epoch 4/10\n",
      "\u001b[1m2/2\u001b[0m \u001b[32m━━━━━━━━━━━━━━━━━━━━\u001b[0m\u001b[37m\u001b[0m \u001b[1m0s\u001b[0m 41ms/step - accuracy: 0.3373 - loss: 0.6912 - val_accuracy: 0.7222 - val_loss: 0.6912\n",
      "Epoch 5/10\n",
      "\u001b[1m2/2\u001b[0m \u001b[32m━━━━━━━━━━━━━━━━━━━━\u001b[0m\u001b[37m\u001b[0m \u001b[1m0s\u001b[0m 42ms/step - accuracy: 0.7579 - loss: 0.6902 - val_accuracy: 0.7222 - val_loss: 0.6901\n",
      "Epoch 6/10\n",
      "\u001b[1m2/2\u001b[0m \u001b[32m━━━━━━━━━━━━━━━━━━━━\u001b[0m\u001b[37m\u001b[0m \u001b[1m0s\u001b[0m 38ms/step - accuracy: 0.8100 - loss: 0.6887 - val_accuracy: 0.7222 - val_loss: 0.6887\n",
      "Epoch 7/10\n",
      "\u001b[1m2/2\u001b[0m \u001b[32m━━━━━━━━━━━━━━━━━━━━\u001b[0m\u001b[37m\u001b[0m \u001b[1m0s\u001b[0m 38ms/step - accuracy: 0.7579 - loss: 0.6882 - val_accuracy: 0.7222 - val_loss: 0.6879\n",
      "Epoch 8/10\n",
      "\u001b[1m2/2\u001b[0m \u001b[32m━━━━━━━━━━━━━━━━━━━━\u001b[0m\u001b[37m\u001b[0m \u001b[1m0s\u001b[0m 42ms/step - accuracy: 0.7897 - loss: 0.6874 - val_accuracy: 1.0000 - val_loss: 0.6868\n",
      "Epoch 9/10\n",
      "\u001b[1m2/2\u001b[0m \u001b[32m━━━━━━━━━━━━━━━━━━━━\u001b[0m\u001b[37m\u001b[0m \u001b[1m0s\u001b[0m 38ms/step - accuracy: 1.0000 - loss: 0.6865 - val_accuracy: 1.0000 - val_loss: 0.6855\n",
      "Epoch 10/10\n",
      "\u001b[1m2/2\u001b[0m \u001b[32m━━━━━━━━━━━━━━━━━━━━\u001b[0m\u001b[37m\u001b[0m \u001b[1m0s\u001b[0m 41ms/step - accuracy: 1.0000 - loss: 0.6853 - val_accuracy: 1.0000 - val_loss: 0.6847\n"
     ]
    },
    {
     "data": {
      "text/plain": [
       "<keras.src.callbacks.history.History at 0x21e300df230>"
      ]
     },
     "execution_count": 44,
     "metadata": {},
     "output_type": "execute_result"
    }
   ],
   "source": [
    "GRU_model.fit(x_train,y_train,epochs=10,batch_size=32,validation_data=(x_test,y_test))"
   ]
  },
  {
   "cell_type": "code",
   "execution_count": 45,
   "id": "a027bc17-7ad5-4a4b-a5b8-38c5c0535e3a",
   "metadata": {},
   "outputs": [
    {
     "name": "stdout",
     "output_type": "stream",
     "text": [
      "\u001b[1m1/1\u001b[0m \u001b[32m━━━━━━━━━━━━━━━━━━━━\u001b[0m\u001b[37m\u001b[0m \u001b[1m0s\u001b[0m 49ms/step - accuracy: 1.0000 - loss: 0.6847\n",
      "Model Accuracy:  1.0\n"
     ]
    }
   ],
   "source": [
    "loss, accuracy = GRU_model.evaluate(x_test,y_test)\n",
    "print(\"Model Accuracy: \", accuracy)"
   ]
  },
  {
   "cell_type": "code",
   "execution_count": null,
   "id": "91acb67f-10a7-4cc9-9d6f-13907bb93a14",
   "metadata": {},
   "outputs": [],
   "source": []
  }
 ],
 "metadata": {
  "kernelspec": {
   "display_name": "Python 3 (ipykernel)",
   "language": "python",
   "name": "python3"
  },
  "language_info": {
   "codemirror_mode": {
    "name": "ipython",
    "version": 3
   },
   "file_extension": ".py",
   "mimetype": "text/x-python",
   "name": "python",
   "nbconvert_exporter": "python",
   "pygments_lexer": "ipython3",
   "version": "3.12.2"
  }
 },
 "nbformat": 4,
 "nbformat_minor": 5
}
