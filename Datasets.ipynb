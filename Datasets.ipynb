{
 "cells": [
  {
   "cell_type": "markdown",
   "id": "76c9a31c-ea8a-4850-8373-3e8158370213",
   "metadata": {},
   "source": [
    "## MNIST DATASET"
   ]
  },
  {
   "cell_type": "code",
   "execution_count": 15,
   "id": "7410a544-0bbd-4b49-b157-faf4a4d092f5",
   "metadata": {},
   "outputs": [],
   "source": [
    "import tensorflow as tf\n",
    "from tensorflow.keras.datasets import mnist"
   ]
  },
  {
   "cell_type": "code",
   "execution_count": 16,
   "id": "831abb73-3e62-4869-9b6d-4429a7e420fb",
   "metadata": {},
   "outputs": [],
   "source": [
    "(train_img,train_lab), (test_img,test_lab) = mnist.load_data()"
   ]
  },
  {
   "cell_type": "code",
   "execution_count": 17,
   "id": "5a8efd4a-94aa-4f24-bb93-c9c61c91af12",
   "metadata": {},
   "outputs": [],
   "source": [
    "# data Preprocessing\n",
    "\n",
    "#normalizing the pixel values to the range [0,1]\n",
    "\n",
    "train_img = train_img/255\n",
    "test_img = test_img/255"
   ]
  },
  {
   "cell_type": "code",
   "execution_count": 18,
   "id": "d95e0bdf-fbe8-4f2d-98bd-2515d955a64d",
   "metadata": {},
   "outputs": [
    {
     "data": {
      "image/png": "[encoded data removed]",
      "text/plain": [
       "<Figure size 1000x1000 with 5 Axes>"
      ]
     },
     "metadata": {},
     "output_type": "display_data"
    }
   ],
   "source": [
    "# for ploting the imgs or datasets you have inserted\n",
    "\n",
    "import matplotlib.pyplot as plt\n",
    "\n",
    "plt.figure(figsize=(10,10))\n",
    "for i in range(5):\n",
    "    plt.subplot(5,5,i+1)\n",
    "    plt.imshow(train_img[i],cmap='gray')\n",
    "    plt.axis('off')\n",
    "plt.show()\n"
   ]
  },
  {
   "cell_type": "markdown",
   "id": "a96241d9-740b-4430-b30d-f50ec53591e8",
   "metadata": {},
   "source": [
    "## cifar10 and cifar100 (req internet)"
   ]
  },
  {
   "cell_type": "code",
   "execution_count": 19,
   "id": "0883dd11-d0d0-4af4-9ad7-f5e8ab9c471b",
   "metadata": {},
   "outputs": [],
   "source": [
    "from tensorflow.keras.datasets import cifar10, cifar100\n",
    "\n",
    "(train_img,train_lab), (test_img,test_lab) = cifar10.load_data()"
   ]
  },
  {
   "cell_type": "code",
   "execution_count": 20,
   "id": "e7e91628-9a4b-4877-878d-e84343a88bbc",
   "metadata": {},
   "outputs": [
    {
     "data": {
      "image/png": "[encoded data removed]",
      "text/plain": [
       "<Figure size 300x300 with 1 Axes>"
      ]
     },
     "metadata": {},
     "output_type": "display_data"
    }
   ],
   "source": [
    "plt.figure(figsize=(3,3))\n",
    "plt.imshow(train_img[1])\n",
    "plt.axis('off')\n",
    "plt.show()"
   ]
  },
  {
   "cell_type": "markdown",
   "id": "a59b7c34-bbe7-48b1-a836-f8835caf601f",
   "metadata": {},
   "source": [
    "## Own IMG DataSet Importing"
   ]
  },
  {
   "cell_type": "code",
   "execution_count": 21,
   "id": "f88d594b-6b13-40bf-b355-fc69b446b0c2",
   "metadata": {},
   "outputs": [],
   "source": [
    "# first arrenge you images properly at its location"
   ]
  },
  {
   "cell_type": "code",
   "execution_count": 22,
   "id": "5670ca7b-e91b-495b-ae4f-9e99a48c1218",
   "metadata": {},
   "outputs": [],
   "source": [
    "from tensorflow.keras.preprocessing.image import ImageDataGenerator\n",
    "\n",
    "datagen = ImageDataGenerator(rescale=1/255,shear_range=0.2,zoom_range=0.2,horizontal_flip=True)"
   ]
  },
  {
   "cell_type": "code",
   "execution_count": 26,
   "id": "23bd9ba0-ac8e-4f48-9654-02ab3525a4ce",
   "metadata": {},
   "outputs": [
    {
     "name": "stdout",
     "output_type": "stream",
     "text": [
      "Found 652 images belonging to 2 classes.\n",
      "Found 652 images belonging to 2 classes.\n"
     ]
    }
   ],
   "source": [
    "# now define batch size and target img size\n",
    "batch_size = 32\n",
    "target_size = (150,150)\n",
    "\n",
    "# now take img from your dir loaction to generator\n",
    "\n",
    "train_data = datagen.flow_from_directory(\n",
    "    'C:\\\\Users\\\\naman\\\\Downloads\\\\mydata',\n",
    "    target_size=(150,150),\n",
    "    batch_size=32,\n",
    "    class_mode='binary' #use 'categorical' for multi class\n",
    ")\n",
    "\n",
    "test_data = datagen.flow_from_directory(\n",
    "    'C:\\\\Users\\\\naman\\\\Downloads\\\\mydata',\n",
    "    target_size=(150,150),\n",
    "    batch_size=32,\n",
    "    class_mode='binary' #use 'categorical' for multi class\n",
    ")\n",
    "\n"
   ]
  },
  {
   "cell_type": "code",
   "execution_count": 27,
   "id": "9a1ac453-535a-47fb-9d56-45afa3938de3",
   "metadata": {},
   "outputs": [],
   "source": [
    "# Extract a batch of training data and labels from train_data generator\n",
    "train_batch = next(train_data)\n",
    "train_img, train_lab = train_batch\n",
    "\n",
    "# Extract a batch of test/validation data and labels from test_data generator\n",
    "test_batch = next(test_data)\n",
    "test_img, test_lab = test_batch\n"
   ]
  },
  {
   "cell_type": "markdown",
   "id": "2d3aa902-9035-432d-9ef3-d31648325589",
   "metadata": {},
   "source": [
    "## CSV file dataset imporing"
   ]
  },
  {
   "cell_type": "code",
   "execution_count": 28,
   "id": "4023be94-7945-4fb4-a49a-a35226579935",
   "metadata": {},
   "outputs": [],
   "source": [
    "import pandas as pd\n",
    "import numpy as np\n",
    "from sklearn.model_selection import train_test_split\n"
   ]
  },
  {
   "cell_type": "code",
   "execution_count": 48,
   "id": "6a32fb42-76b1-445e-8b0c-418b714041b7",
   "metadata": {},
   "outputs": [],
   "source": [
    "# Load CSV file into a DataFrame\n",
    "data = pd.read_csv('../movie_reviews.csv')"
   ]
  },
  {
   "cell_type": "code",
   "execution_count": 49,
   "id": "a822a3ba-a5b2-4611-b9c0-b886fd5a6961",
   "metadata": {},
   "outputs": [
    {
     "name": "stdout",
     "output_type": "stream",
     "text": [
      "    Movie Title Review Text Sentiment\n",
      "0      3 idiots  bhut bdiya   neutral\n",
      "1  Total Dhamal       bekar  positive\n",
      "2           MIB  bhut bdiya   neutral\n",
      "3           MIB        okay  positive\n",
      "4           MIB       bekar  positive\n"
     ]
    }
   ],
   "source": [
    "print(data.head())"
   ]
  },
  {
   "cell_type": "code",
   "execution_count": 55,
   "id": "4391dd14-ba5d-4cb5-8877-f7c88edce272",
   "metadata": {},
   "outputs": [],
   "source": [
    "# preprocessing\n",
    "\n",
    "# Example preprocessing steps\n",
    "data.fillna(0, inplace=True)  # Fill missing values with 0\n",
    "\n",
    "# data = pd.get_dummies(data, columns=['Sentiment']) \n",
    "# One-hot encode categorical variables\n",
    "\n"
   ]
  },
  {
   "cell_type": "code",
   "execution_count": 56,
   "id": "39286425-c4a5-413a-8eda-d2a5896d4f90",
   "metadata": {},
   "outputs": [
    {
     "name": "stdout",
     "output_type": "stream",
     "text": [
      "    Movie Title Review Text Sentiment\n",
      "0      3 idiots  bhut bdiya   neutral\n",
      "1  Total Dhamal       bekar  positive\n",
      "2           MIB  bhut bdiya   neutral\n",
      "3           MIB        okay  positive\n",
      "4           MIB       bekar  positive\n"
     ]
    }
   ],
   "source": [
    "print(data.head())"
   ]
  },
  {
   "cell_type": "code",
   "execution_count": 57,
   "id": "ca422678-068c-46f3-a4bf-793de9803145",
   "metadata": {},
   "outputs": [],
   "source": [
    "# Extract features (inputs) and labels (outputs)\n",
    "X = data.drop('Sentiment', axis=1)  # Features (inputs)\n",
    "y = data['Sentiment']  # Labels (outputs)\n"
   ]
  },
  {
   "cell_type": "code",
   "execution_count": 63,
   "id": "b57ed2b9-7e88-4d55-8ec4-dd1c8fd7808c",
   "metadata": {},
   "outputs": [
    {
     "name": "stdout",
     "output_type": "stream",
     "text": [
      "[1 2 1 2 2 2 2 0 1 2 2 0 1 0 2 2 2 2 2 0 2 1 1 1 2 2 1 2 1 1 2 0 0 0 2 2 0\n",
      " 2 2 0 1 1 2 1 0 0 1 0 1 1 0 1 2 2 1 0 0 1 1 0 2 1 2 1 2 1 0 1 0 2 0 0 1 1\n",
      " 2 0 2 2 2 1 2 0 2 1 0 2 0 1 2 2 2 1 0 2 2 2 2 0 1 1 0 2 0 0 0 0 0 0 1 1 0\n",
      " 0 0 1 2 2 2 0 2 0 2 1 1 0 2 2 2 2 2 1 0 2 1 2 1 0 2 2 1 0 1 1 0 2 2 1 0 0\n",
      " 2 2]\n"
     ]
    }
   ],
   "source": [
    "# fro converting text data to numrical value (for words)\n",
    "from sklearn.preprocessing import LabelEncoder\n",
    "# Initialize LabelEncoder\n",
    "label_encoder = LabelEncoder()\n",
    "\n",
    "\n",
    "# Fit label encoder and transform sentence\n",
    "encoded_sentence = label_encoder.fit_transform(y)\n",
    "\n",
    "print(encoded_sentence)"
   ]
  },
  {
   "cell_type": "code",
   "execution_count": 62,
   "id": "edbb6531-37db-4f55-999a-e5b058f6c13f",
   "metadata": {},
   "outputs": [
    {
     "name": "stdout",
     "output_type": "stream",
     "text": [
      "[[0. 1. 1. 0. 0.]\n",
      " [0. 0. 0. 1. 1.]]\n"
     ]
    }
   ],
   "source": [
    "# for sententcen encoding\n",
    "from tensorflow.keras.preprocessing.text import Tokenizer\n",
    "\n",
    "# Initialize Tokenizer\n",
    "tokenizer = Tokenizer()\n",
    "\n",
    "tokenizer.fit_on_texts(X)\n",
    "encoded_sentences = tokenizer.texts_to_matrix(X, mode='binary')\n",
    "\n",
    "print(encoded_sentences)\n"
   ]
  },
  {
   "cell_type": "code",
   "execution_count": 59,
   "id": "6218c54e-633d-4d08-b649-762545de77cb",
   "metadata": {},
   "outputs": [],
   "source": [
    "# Split the dataset into training and testing sets\n",
    "X_train, X_test, y_train, y_test = train_test_split(X, y, test_size=0.2, random_state=42)\n"
   ]
  }
 ],
 "metadata": {
  "kernelspec": {
   "display_name": "Python 3 (ipykernel)",
   "language": "python",
   "name": "python3"
  },
  "language_info": {
   "codemirror_mode": {
    "name": "ipython",
    "version": 3
   },
   "file_extension": ".py",
   "mimetype": "text/x-python",
   "name": "python",
   "nbconvert_exporter": "python",
   "pygments_lexer": "ipython3",
   "version": "3.12.2"
  }
 },
 "nbformat": 4,
 "nbformat_minor": 5
}
